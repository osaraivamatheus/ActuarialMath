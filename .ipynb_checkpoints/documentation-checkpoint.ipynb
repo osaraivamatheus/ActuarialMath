{
 "cells": [
  {
   "cell_type": "code",
   "execution_count": null,
   "metadata": {},
   "outputs": [],
   "source": [
    "import pandas as pd\n",
    "from life.annual_case import *"
   ]
  },
  {
   "cell_type": "code",
   "execution_count": null,
   "metadata": {},
   "outputs": [],
   "source": [
    "qx = pd.read_csv('TABUAS.csv', sep=';', decimal=',')"
   ]
  },
  {
   "cell_type": "markdown",
   "metadata": {},
   "source": [
    "\n",
    "# Pure premium for  the annual life insurance's variations\n",
    "\n",
    "The class ``life_insurance`` contains five variations of annual life insurance implemented. Consider the following variables:\n",
    "\n",
    "* $i$: rate.\n",
    "* $x$: age.\n",
    "* $v$: discount factor: \n",
    "\n",
    "$$\n",
    "v = \\left(\\dfrac{1}{1+i} \\right)\n",
    "$$\n",
    "\n",
    "* $n$: years of contract.\n",
    "* $m$: years of deffering.\n",
    "* $\\omega$: the maximum age a person can reach given according to a life table.\n",
    "\n",
    "## The whole life insurance: \n",
    "$$\n",
    "A_x = B \\cdot \\sum_{k=0}^{\\omega - x} v^{k} {}_{k}p_{x} q_{x+k}\n",
    "$$\n",
    "\n",
    "## The term life insurance:\n",
    "$$\n",
    "A_{_{x}^{1}:\\overline{n}|} = B \\cdot \\sum_{k=0}^{n} v^{k} {}_{k}p_{x} q_{x+k} \\hspace{.5cm} \\text{for } (n+x)<\\omega\n",
    "$$\n",
    "\n",
    "## The deffered whole life insurance:\n",
    "$$\n",
    "{}_{m|}A_x = B \\cdot v^{m} {}_{m}p_{x}  \\cdot \\sum_{k=0}^{\\omega-x} v^{k} {}_{k}p_{x+m} q_{x+m+k} \\hspace{.5cm} \\text{for } (x+m)<\\omega\n",
    "$$\n",
    "\n",
    "## The deffered term life insurance:\n",
    "$$\n",
    "{}_{m|}A_{_{x}^{1}:\\overline{n}|} = B \\cdot v^{m} {}_{m}p_{x}  \\cdot \\sum_{k=0}^{n} v^{k} {}_{k}p_{x+m} q_{x+m+k} \\hspace{.5cm} \\text{for } (x+m+n)<\\omega\n",
    "$$\n",
    "\n",
    "## Pure Endowment\n",
    "\n",
    "$$\n",
    "{}_{n}E_{x} = A_{_{x}:{}_{\\overline{n}|}^{1}} = B \\cdot v^{m} {}_{m}p_{x}\n",
    "$$\n",
    "\n",
    "## Endowment\n",
    "\n",
    "$$\n",
    "A_{x:\\overline{n}|} = B \\cdot A_{_{x}:{}_{\\overline{n}|}^{1}} + A_{_{x}^{1}:\\overline{n}|}\n",
    "$$\n"
   ]
  },
  {
   "cell_type": "code",
   "execution_count": null,
   "metadata": {},
   "outputs": [],
   "source": [
    "#Creating the class\n",
    "sv = life_insurance(tabua=qx['AT_49_F'])"
   ]
  },
  {
   "cell_type": "code",
   "execution_count": null,
   "metadata": {},
   "outputs": [],
   "source": [
    "# Whole life insurance\n",
    "sv.Ax(i=.06, age=30)"
   ]
  },
  {
   "cell_type": "code",
   "execution_count": null,
   "metadata": {},
   "outputs": [],
   "source": [
    "# Deffered whole life insurance\n",
    "sv.def_Ax(i=.06, age=30, n_def=10)"
   ]
  },
  {
   "cell_type": "code",
   "execution_count": null,
   "metadata": {},
   "outputs": [],
   "source": [
    "# Term life insurance\n",
    "sv.Ax_tmp(i=.06, age=30, tmp=25)"
   ]
  },
  {
   "cell_type": "code",
   "execution_count": null,
   "metadata": {},
   "outputs": [],
   "source": [
    "# Defferd term life insurance\n",
    "sv.def_Ax_tmp(i=.06, age=30, tmp=25, n_def=10)"
   ]
  },
  {
   "cell_type": "code",
   "execution_count": null,
   "metadata": {},
   "outputs": [],
   "source": [
    "# Pure Endowment\n",
    "sv.Pure_Endow(i=.06, age=30, tmp=10)"
   ]
  },
  {
   "cell_type": "code",
   "execution_count": null,
   "metadata": {},
   "outputs": [],
   "source": [
    "# Endowment\n",
    "sv.Endowment(i=.06, age=30, tmp=10)"
   ]
  },
  {
   "cell_type": "markdown",
   "metadata": {},
   "source": [
    "# Pure premium for  the annual annuities variations"
   ]
  },
  {
   "cell_type": "code",
   "execution_count": null,
   "metadata": {},
   "outputs": [],
   "source": [
    "a = life_annuity(tabua = qx['AT_49_F'])"
   ]
  },
  {
   "cell_type": "code",
   "execution_count": null,
   "metadata": {},
   "outputs": [],
   "source": [
    "a.ax(i=.06, age=30, due=False)"
   ]
  },
  {
   "cell_type": "code",
   "execution_count": null,
   "metadata": {},
   "outputs": [],
   "source": [
    "a.ax(i=.06, idade=30, due=True)"
   ]
  },
  {
   "cell_type": "code",
   "execution_count": null,
   "metadata": {},
   "outputs": [],
   "source": [
    "a.def_ax(i=.06, age=30, n_def=10, due=False)"
   ]
  },
  {
   "cell_type": "code",
   "execution_count": null,
   "metadata": {},
   "outputs": [],
   "source": [
    "a.def_ax(i=.06, age=30, n_def=10, due=True)"
   ]
  },
  {
   "cell_type": "code",
   "execution_count": null,
   "metadata": {},
   "outputs": [],
   "source": [
    "a.ax_tmp(i=.06, age=30, tmp=10, due=False)"
   ]
  },
  {
   "cell_type": "code",
   "execution_count": null,
   "metadata": {},
   "outputs": [],
   "source": [
    "a.ax_tmp(i=.06, age=30, tmp=10, due=True)"
   ]
  },
  {
   "cell_type": "code",
   "execution_count": null,
   "metadata": {},
   "outputs": [],
   "source": [
    "a.def_ax_tmp(i=.06, age=30, n_def=15, tmp=10, due=True)"
   ]
  }
 ],
 "metadata": {
  "kernelspec": {
   "display_name": "Python 3",
   "language": "python",
   "name": "python3"
  },
  "language_info": {
   "codemirror_mode": {
    "name": "ipython",
    "version": 3
   },
   "file_extension": ".py",
   "mimetype": "text/x-python",
   "name": "python",
   "nbconvert_exporter": "python",
   "pygments_lexer": "ipython3",
   "version": "3.8.5"
  },
  "vscode": {
   "interpreter": {
    "hash": "916dbcbb3f70747c44a77c7bcd40155683ae19c65e1c03b4aa3499c5328201f1"
   }
  }
 },
 "nbformat": 4,
 "nbformat_minor": 4
}
