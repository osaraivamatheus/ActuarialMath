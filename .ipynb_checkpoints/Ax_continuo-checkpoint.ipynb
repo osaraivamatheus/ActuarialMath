{
 "cells": [
  {
   "cell_type": "code",
   "execution_count": 1,
   "metadata": {},
   "outputs": [],
   "source": [
    "import pandas as pd\n",
    "import numpy as np\n",
    "\n",
    "from numpy.polynomial import Polynomial\n",
    "\n",
    "from scipy import integrate\n",
    "\n",
    "import  matplotlib.pyplot as plt"
   ]
  },
  {
   "cell_type": "code",
   "execution_count": 2,
   "metadata": {},
   "outputs": [],
   "source": [
    "qx = pd.read_csv('life_tables.csv', sep=';', decimal=',')\n",
    "qx = qx['AT_49_F']"
   ]
  },
  {
   "cell_type": "markdown",
   "metadata": {},
   "source": [
    "# Definindo classe"
   ]
  },
  {
   "cell_type": "code",
   "execution_count": 3,
   "metadata": {},
   "outputs": [],
   "source": [
    "class life_insurace:\n",
    "    \n",
    "    \"\"\"\n",
    "    This class must be used to build a set of functions necesssary to calculate\n",
    "    the whole life insurance and the term life insurance. \n",
    "    \n",
    "    \"\"\"\n",
    "    def __init__(self, qx):\n",
    "        self.qx = np.array(qx)\n",
    "        self.age = None\n",
    "        self.continuous_xp0_fitted = 'Not fitted yet.'\n",
    "        self.Prob_xp0 = 'Not fitted yet.'\n",
    "        self.Ax_integral = 'Not defined yet.'\n",
    "    \n",
    "    def build_xp0(self, age):\n",
    "        \"\"\"\n",
    "        This is a method which produces a function that returns $Pr(T_0 > x)$, i.e, the probability of person\n",
    "        aged zero survives beyound the age x given an qx distribution. Another common notation for that probability is $_xp_0$.\n",
    "        \n",
    "                     \n",
    "        Returns:\n",
    "        --------\n",
    "        lambda funtion.\n",
    "        \n",
    "        \"\"\"\n",
    "        self.age = age\n",
    "        px = 1 - self.qx\n",
    "        tpx = (lambda t: np.prod(px[:t]))\n",
    "        self.Prob_xp0 = tpx\n",
    "    \n",
    "    def fit(self, x, y, deg):\n",
    "        \"\"\"\n",
    "        Given some pair of point x and y a polynomial function with degree deg is fitted. This is method to create a \n",
    "        continuous function for tpx throught polynomial interpolation method.\n",
    "        \n",
    "        Parameters:\n",
    "        -----------\n",
    "        x: list or array.\n",
    "           X data points (i.e the ages of a life table)\n",
    "        y: list or array.\n",
    "           y data points (i.e the tpx af a life table)\n",
    "        \n",
    "        deg: int.\n",
    "           Degree of a the polynomial to be fitted.\n",
    "           \n",
    "        Returns:\n",
    "        --------\n",
    "        \n",
    "        numpy.poy1d object is build.\n",
    "        \n",
    "        \n",
    "        \"\"\"\n",
    "        x = np.array(x)\n",
    "        y = np.array(y)\n",
    "\n",
    "        f = np.polyfit(x, y, deg=deg)\n",
    "        print(Polynomial(f))\n",
    "        self.continuous_xp0_fitted = np.poly1d(f)\n",
    "        \n",
    "        return self\n",
    "    \n",
    "    def mu_force(self, age):\n",
    "        \n",
    "        \"\"\"\n",
    "        This function calculates the force of motality at some given age. This function uses the polynomial \n",
    "        function fitted on the ``fit()`` method to calculate the force of mortality. \n",
    "        \n",
    "        Parameter:\n",
    "        ----------\n",
    "        \n",
    "        age: int.\n",
    "             age to be applied on the force of mortality.\n",
    "             \n",
    "        Return:\n",
    "        -------\n",
    "        \n",
    "        mu: int\n",
    "            The force of mortality at given age.\n",
    "            \n",
    "        \"\"\"\n",
    "        \n",
    "        if self.continuous_fitted == 'Not fitted yet.':\n",
    "            raise Exception('Continuous survival function is not fitted yet.')\n",
    "        \n",
    "        mu = -1/self.continuous_xp0_fitted(age) * self.continuous_xp0_fitted.deriv()(age)\n",
    "        \n",
    "        return mu\n",
    "    \n",
    "    def define_integral(self, delta):\n",
    "        \"\"\"\n",
    "        This method defines a continuos function to be integrated. \n",
    "        \n",
    "        Parameters:\n",
    "        -----------\n",
    "        \n",
    "        delta: float.\n",
    "               rate of discount factor.\n",
    "               \n",
    "        Returns:\n",
    "        --------\n",
    "        \n",
    "        lambda function.\n",
    "        \n",
    "        \"\"\"\n",
    "        \n",
    "        if self.continuous_fitted == 'Not fitted yet.':\n",
    "            raise Exception('Continuous survival function is not fitted yet.')\n",
    "            \n",
    "        if self.mu_force == 'Not fitted yet.':\n",
    "            raise Exception('Mortality force function is not fitted yet.')\n",
    "        \n",
    "        f = lambda time: self.mu_force(time)*np.exp(-time*delta)*self.continuous_xp0_fitted(time)\n",
    "        \n",
    "        self.Ax_integral = f\n",
    "    \n",
    "    def premium(self, contract, B=1):\n",
    "        \"\"\"\n",
    "        This function is used to calculate the premium of life insurace contract. The premium is the result of \n",
    "        the integral defined on the ``define_integral()`` method.\n",
    "        \n",
    "        Parameters:\n",
    "        -----------\n",
    "        contract: float or int.\n",
    "                  Time contract. If contract is equal to ``np.infinity`` than premium refers to a wholel life insurance.\n",
    "        B: float.\n",
    "           Benefit.\n",
    "           \n",
    "        Returns:\n",
    "        --------\n",
    "        \n",
    "        Premium: float.\n",
    "        \n",
    "        \"\"\"\n",
    "        \n",
    "        if self.Ax_integral == 'Not defined yet.':\n",
    "            raise Exception('Integral is not defined yet.')\n",
    "            \n",
    "        to_integrate = self.Ax_integral\n",
    "        \n",
    "        return integrate.quad(to_integrate, a=0, b=contract)[0] * B"
   ]
  },
  {
   "cell_type": "markdown",
   "metadata": {},
   "source": [
    "# Atribuição da classe"
   ]
  },
  {
   "cell_type": "code",
   "execution_count": 4,
   "metadata": {},
   "outputs": [],
   "source": [
    "teste = life_insurace(qx=qx)"
   ]
  },
  {
   "cell_type": "markdown",
   "metadata": {},
   "source": [
    "## Criando a função ${}_{t}p_{x}, \\hspace{.5cm} 0 \\leq t \\leq \\infty$"
   ]
  },
  {
   "cell_type": "code",
   "execution_count": 5,
   "metadata": {},
   "outputs": [
    {
     "ename": "NameError",
     "evalue": "name 'age' is not defined",
     "output_type": "error",
     "traceback": [
      "\u001b[0;31m---------------------------------------------------------------------------\u001b[0m",
      "\u001b[0;31mNameError\u001b[0m                                 Traceback (most recent call last)",
      "\u001b[0;32m<ipython-input-5-98289ba91997>\u001b[0m in \u001b[0;36m<module>\u001b[0;34m\u001b[0m\n\u001b[0;32m----> 1\u001b[0;31m \u001b[0mteste\u001b[0m\u001b[0;34m.\u001b[0m\u001b[0mbuild_xp0\u001b[0m\u001b[0;34m(\u001b[0m\u001b[0;34m)\u001b[0m\u001b[0;34m\u001b[0m\u001b[0;34m\u001b[0m\u001b[0m\n\u001b[0m\u001b[1;32m      2\u001b[0m \u001b[0;31m#Exemplo:\u001b[0m\u001b[0;34m\u001b[0m\u001b[0;34m\u001b[0m\u001b[0;34m\u001b[0m\u001b[0m\n\u001b[1;32m      3\u001b[0m \u001b[0;31m# teste.xp0(t=30) #probabilidade de alguém de 10 anos sobreviver até os 40 anos\u001b[0m\u001b[0;34m\u001b[0m\u001b[0;34m\u001b[0m\u001b[0;34m\u001b[0m\u001b[0m\n",
      "\u001b[0;32m<ipython-input-3-7b30c7b44943>\u001b[0m in \u001b[0;36mbuild_xp0\u001b[0;34m(self)\u001b[0m\n\u001b[1;32m     24\u001b[0m \u001b[0;34m\u001b[0m\u001b[0m\n\u001b[1;32m     25\u001b[0m         \"\"\"\n\u001b[0;32m---> 26\u001b[0;31m         \u001b[0mself\u001b[0m\u001b[0;34m.\u001b[0m\u001b[0mage\u001b[0m \u001b[0;34m=\u001b[0m \u001b[0mage\u001b[0m\u001b[0;34m\u001b[0m\u001b[0;34m\u001b[0m\u001b[0m\n\u001b[0m\u001b[1;32m     27\u001b[0m         \u001b[0mpx\u001b[0m \u001b[0;34m=\u001b[0m \u001b[0;36m1\u001b[0m \u001b[0;34m-\u001b[0m \u001b[0mself\u001b[0m\u001b[0;34m.\u001b[0m\u001b[0mqx\u001b[0m\u001b[0;34m\u001b[0m\u001b[0;34m\u001b[0m\u001b[0m\n\u001b[1;32m     28\u001b[0m         \u001b[0mtpx\u001b[0m \u001b[0;34m=\u001b[0m \u001b[0;34m(\u001b[0m\u001b[0;32mlambda\u001b[0m \u001b[0mt\u001b[0m\u001b[0;34m:\u001b[0m \u001b[0mnp\u001b[0m\u001b[0;34m.\u001b[0m\u001b[0mprod\u001b[0m\u001b[0;34m(\u001b[0m\u001b[0mpx\u001b[0m\u001b[0;34m[\u001b[0m\u001b[0;34m:\u001b[0m\u001b[0mt\u001b[0m\u001b[0;34m]\u001b[0m\u001b[0;34m)\u001b[0m\u001b[0;34m)\u001b[0m\u001b[0;34m\u001b[0m\u001b[0;34m\u001b[0m\u001b[0m\n",
      "\u001b[0;31mNameError\u001b[0m: name 'age' is not defined"
     ]
    }
   ],
   "source": [
    "teste.build_xp0()\n",
    "#Exemplo:\n",
    "# teste.xp0(t=30) #probabilidade de alguém de 10 anos sobreviver até os 40 anos "
   ]
  },
  {
   "cell_type": "markdown",
   "metadata": {},
   "source": [
    "## Ajustando um polinômio de grau 5 para a função ${}_{t}p_{x}$"
   ]
  },
  {
   "cell_type": "code",
   "execution_count": null,
   "metadata": {},
   "outputs": [],
   "source": [
    "x = np.arange(0, 70)\n",
    "y = [teste.function_tpx(t) for t in x]\n",
    "teste.fit(x, y, deg=5);"
   ]
  },
  {
   "cell_type": "markdown",
   "metadata": {},
   "source": [
    "# Força de mortalidade $\\mu_x(t)$"
   ]
  },
  {
   "cell_type": "code",
   "execution_count": null,
   "metadata": {},
   "outputs": [],
   "source": [
    "teste.mu_force(3) "
   ]
  },
  {
   "cell_type": "markdown",
   "metadata": {},
   "source": [
    "# Definindo a integral que calcula $\\bar{A}_{x}$"
   ]
  },
  {
   "cell_type": "code",
   "execution_count": null,
   "metadata": {},
   "outputs": [],
   "source": [
    "teste.define_integral(delta=.1)"
   ]
  },
  {
   "cell_type": "markdown",
   "metadata": {},
   "source": [
    "# Calculando o prêmio"
   ]
  },
  {
   "cell_type": "code",
   "execution_count": null,
   "metadata": {},
   "outputs": [],
   "source": [
    "teste.premium(contract=np.infty)"
   ]
  },
  {
   "cell_type": "code",
   "execution_count": null,
   "metadata": {},
   "outputs": [],
   "source": []
  }
 ],
 "metadata": {
  "kernelspec": {
   "display_name": "Python 3",
   "language": "python",
   "name": "python3"
  },
  "language_info": {
   "codemirror_mode": {
    "name": "ipython",
    "version": 3
   },
   "file_extension": ".py",
   "mimetype": "text/x-python",
   "name": "python",
   "nbconvert_exporter": "python",
   "pygments_lexer": "ipython3",
   "version": "3.8.5"
  }
 },
 "nbformat": 4,
 "nbformat_minor": 4
}
