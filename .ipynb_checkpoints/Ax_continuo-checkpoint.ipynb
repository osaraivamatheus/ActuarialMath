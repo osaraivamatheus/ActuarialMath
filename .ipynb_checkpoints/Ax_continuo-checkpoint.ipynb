{
 "cells": [
  {
   "cell_type": "code",
   "execution_count": 1,
   "metadata": {},
   "outputs": [],
   "source": [
    "import pandas as pd\n",
    "import numpy as np\n",
    "\n",
    "from numpy.polynomial import Polynomial\n",
    "from numpy import poly1d, polyfit\n",
    "\n",
    "from scipy import integrate\n",
    "\n",
    "import  matplotlib.pyplot as plt"
   ]
  },
  {
   "cell_type": "code",
   "execution_count": 2,
   "metadata": {},
   "outputs": [],
   "source": [
    "qx = pd.read_csv('life_tables.csv', sep=';', decimal=',')\n",
    "qx = qx['AT_49_F']"
   ]
  },
  {
   "cell_type": "markdown",
   "metadata": {},
   "source": [
    "# Calculando  função contínua de tpx"
   ]
  },
  {
   "cell_type": "code",
   "execution_count": 235,
   "metadata": {},
   "outputs": [],
   "source": [
    "class Ax_continuo:\n",
    "    \n",
    "    def __init__(self, qx):\n",
    "        self.qx = np.array(qx)\n",
    "        self.age = None\n",
    "        self.continuous_fitted = 'Not fitted yet.'\n",
    "        self.funtion_tpx = 'Not fitted yet.'\n",
    "        self.Ax_integral = 'Not defined yet.'\n",
    "    \n",
    "    def tpx_discreta(self, age):\n",
    "        self.age = age\n",
    "        px = 1 - self.qx\n",
    "        tpx = (lambda t: np.prod(px[age:age+t]))\n",
    "        self.function_tpx = tpx\n",
    "    \n",
    "    def fit(self, x, y, deg):\n",
    "        x = np.array(x)\n",
    "        y = np.array(y)\n",
    "\n",
    "        f = polyfit(x, y, deg=deg)\n",
    "        print(Polynomial(f))\n",
    "        self.continuous_fitted = poly1d(f)\n",
    "        \n",
    "        return self\n",
    "    \n",
    "    def mu_force(self, t):\n",
    "        \n",
    "        if self.continuous_fitted == 'Not fitted yet.':\n",
    "            raise Exception('Continuous survival function is not fitted yet.')\n",
    "        \n",
    "        mu = -1/self.continuous_fitted(t) * self.continuous_fitted.deriv()(t)\n",
    "        \n",
    "        return mu\n",
    "    \n",
    "    def define_integral(self, delta):\n",
    "        \n",
    "        if self.continuous_fitted == 'Not fitted yet.':\n",
    "            raise Exception('Continuous survival function is not fitted yet.')\n",
    "            \n",
    "        if self.mu_force == 'Not fitted yet.':\n",
    "            raise Exception('Mortality force function is not fitted yet.')\n",
    "        \n",
    "        f = lambda time: self.mu_force(time)*np.exp(-time*delta)*self.continuous_fitted(time)\n",
    "        \n",
    "        self.Ax_integral = f\n",
    "    \n",
    "    def premium(self, contract, B=1):\n",
    "        \n",
    "        if self.Ax_integral == 'Not defined yet.':\n",
    "            raise Exception('Integral is not defined yet.')\n",
    "            \n",
    "        to_integrate = self.Ax_integral\n",
    "        \n",
    "        return integrate.quad(to_integrate, a=0, b=contract)[0] * B"
   ]
  },
  {
   "cell_type": "markdown",
   "metadata": {},
   "source": [
    "# Atribuição da classe"
   ]
  },
  {
   "cell_type": "code",
   "execution_count": 236,
   "metadata": {},
   "outputs": [],
   "source": [
    "teste = Ax_continuo(qx=qx)"
   ]
  },
  {
   "cell_type": "markdown",
   "metadata": {},
   "source": [
    "## Criando a função ${}_{t}p_{x}, \\hspace{.5cm} 0 \\leq t \\leq \\infty$"
   ]
  },
  {
   "cell_type": "code",
   "execution_count": 237,
   "metadata": {},
   "outputs": [
    {
     "data": {
      "text/plain": [
       "0.9831622073237989"
      ]
     },
     "execution_count": 237,
     "metadata": {},
     "output_type": "execute_result"
    }
   ],
   "source": [
    "teste.tpx_discreta(age=10)\n",
    "#Exemplo:\n",
    "teste.function_tpx(t=30) #probabilidade de alguém de 10 anos sobreviver até os 40 anos "
   ]
  },
  {
   "cell_type": "markdown",
   "metadata": {},
   "source": [
    "## Ajustando um polinômio de grau 5 para a função ${}_{t}p_{x}$"
   ]
  },
  {
   "cell_type": "code",
   "execution_count": 238,
   "metadata": {},
   "outputs": [
    {
     "name": "stdout",
     "output_type": "stream",
     "text": [
      "-1.0400563946169136e-09 + 1.0732062455060109e-07·x¹ -\n",
      "4.602783499904915e-06·x² + 7.415441695280955e-05·x³ -\n",
      "0.000736018352294361·x⁴ + 1.0007660883241178·x⁵\n"
     ]
    }
   ],
   "source": [
    "x = np.arange(0, 70)\n",
    "y = [teste.function_tpx(t) for t in x]\n",
    "teste.fit(x, y, deg=5);"
   ]
  },
  {
   "cell_type": "markdown",
   "metadata": {},
   "source": [
    "# Força de mortalidade $\\mu_x(t)$"
   ]
  },
  {
   "cell_type": "code",
   "execution_count": 239,
   "metadata": {},
   "outputs": [
    {
     "data": {
      "text/plain": [
       "0.00040455782356274073"
      ]
     },
     "execution_count": 239,
     "metadata": {},
     "output_type": "execute_result"
    }
   ],
   "source": [
    "teste.mu_force(3) "
   ]
  },
  {
   "cell_type": "markdown",
   "metadata": {},
   "source": [
    "# Definindo a integral que calcula $\\bar{A}_{x}$"
   ]
  },
  {
   "cell_type": "code",
   "execution_count": 240,
   "metadata": {},
   "outputs": [],
   "source": [
    "teste.define_integral(delta=.1)"
   ]
  },
  {
   "cell_type": "markdown",
   "metadata": {},
   "source": [
    "# Calculando o prêmio"
   ]
  },
  {
   "cell_type": "code",
   "execution_count": 242,
   "metadata": {},
   "outputs": [
    {
     "data": {
      "text/plain": [
       "0.006869727975069888"
      ]
     },
     "execution_count": 242,
     "metadata": {},
     "output_type": "execute_result"
    }
   ],
   "source": [
    "teste.premium(contract=np.infty)"
   ]
  }
 ],
 "metadata": {
  "kernelspec": {
   "display_name": "Python 3",
   "language": "python",
   "name": "python3"
  },
  "language_info": {
   "codemirror_mode": {
    "name": "ipython",
    "version": 3
   },
   "file_extension": ".py",
   "mimetype": "text/x-python",
   "name": "python",
   "nbconvert_exporter": "python",
   "pygments_lexer": "ipython3",
   "version": "3.8.5"
  }
 },
 "nbformat": 4,
 "nbformat_minor": 4
}
