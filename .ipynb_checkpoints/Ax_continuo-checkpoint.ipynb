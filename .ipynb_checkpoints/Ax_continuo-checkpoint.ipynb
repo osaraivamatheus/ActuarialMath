{
 "cells": [
  {
   "cell_type": "code",
   "execution_count": 1,
   "metadata": {},
   "outputs": [],
   "source": [
    "import pandas as pd\n",
    "import numpy as np\n",
    "\n",
    "from numpy.polynomial import Polynomial\n",
    "from numpy import poly1d, polyfit\n",
    "\n",
    "from scipy import integrate\n",
    "\n",
    "import  matplotlib.pyplot as plt"
   ]
  },
  {
   "cell_type": "code",
   "execution_count": 2,
   "metadata": {},
   "outputs": [],
   "source": [
    "qx = pd.read_csv('life_tables.csv', sep=';', decimal=',')\n",
    "qx = qx['AT_49_F']"
   ]
  },
  {
   "cell_type": "code",
   "execution_count": 3,
   "metadata": {},
   "outputs": [],
   "source": []
  },
  {
   "cell_type": "markdown",
   "metadata": {},
   "source": [
    "# Calculando  função contínua de tpx"
   ]
  },
  {
   "cell_type": "code",
   "execution_count": 100,
   "metadata": {},
   "outputs": [],
   "source": [
    "class Ax_continuo:\n",
    "    \n",
    "    def __init__(self, qx):\n",
    "        self.qx = np.array(qx)\n",
    "        self.continuous_fitted = 'Not fitted yet.'\n",
    "        self.funtion_tpx = 'Not fitted yet.'\n",
    "    \n",
    "    def tpx_discreta(self, age):\n",
    "        px = 1 - self.qx\n",
    "        tpx = lambda t: np.prod(px[age:age+t])\n",
    "        self.function_tpx = tpx\n",
    "    \n",
    "    def fit(self, x, y, deg):\n",
    "        x = np.array(x)\n",
    "        y = np.array(y)\n",
    "\n",
    "        f = polyfit(x, y, deg=deg)\n",
    "        print(Polynomial(f))\n",
    "        self.continuous_fitted = poly1d(f)\n",
    "        \n",
    "        return self\n",
    "    \n",
    "    def mu_force(self, t):\n",
    "        \n",
    "        if self.continuous_fitted == 'Not fitted yet.':\n",
    "            raise Exception('Continuous survival function is not fitted yet.')\n",
    "        \n",
    "        mu = -1/self.continuous_fitted(t) * self.continuous_fitted.deriv()(t)\n",
    "        \n",
    "        return mu\n",
    "    \n",
    "    def to_integrate(self, time, delta):\n",
    "        \n",
    "        return self.mu_force(time)*np.exp(-time*delta)*self.continuous_fitted(time)"
   ]
  },
  {
   "cell_type": "code",
   "execution_count": 101,
   "metadata": {},
   "outputs": [],
   "source": [
    "teste = Ax_continuo(qx=qx)"
   ]
  },
  {
   "cell_type": "code",
   "execution_count": 102,
   "metadata": {},
   "outputs": [],
   "source": [
    "teste.tpx_discreta(age=30)"
   ]
  },
  {
   "cell_type": "code",
   "execution_count": 103,
   "metadata": {},
   "outputs": [
    {
     "name": "stdout",
     "output_type": "stream",
     "text": [
      "9.589137784301672e-09 - 1.4202642160894704e-06·x¹ +\n",
      "6.705428188200508e-05·x² - 0.0013486878773162287·x³ +\n",
      "0.008888386281450899·x⁴ + 0.9859057576186563·x⁵\n"
     ]
    }
   ],
   "source": [
    "x = np.arange(0, 70)\n",
    "y = [teste.function_tpx(t) for t in x]\n",
    "teste.fit(x, y, deg=5);"
   ]
  },
  {
   "cell_type": "code",
   "execution_count": 104,
   "metadata": {},
   "outputs": [
    {
     "data": {
      "text/plain": [
       "-0.0024519957660475793"
      ]
     },
     "execution_count": 104,
     "metadata": {},
     "output_type": "execute_result"
    }
   ],
   "source": [
    "teste.mu_force(3)"
   ]
  },
  {
   "cell_type": "code",
   "execution_count": 105,
   "metadata": {},
   "outputs": [
    {
     "ename": "NameError",
     "evalue": "name 'self' is not defined",
     "output_type": "error",
     "traceback": [
      "\u001b[0;31m---------------------------------------------------------------------------\u001b[0m",
      "\u001b[0;31mNameError\u001b[0m                                 Traceback (most recent call last)",
      "\u001b[0;32m<ipython-input-105-f32d15b1670e>\u001b[0m in \u001b[0;36m<module>\u001b[0;34m\u001b[0m\n\u001b[0;32m----> 1\u001b[0;31m \u001b[0mteste\u001b[0m\u001b[0;34m.\u001b[0m\u001b[0mto_integrate\u001b[0m\u001b[0;34m(\u001b[0m\u001b[0mdelta\u001b[0m\u001b[0;34m=\u001b[0m\u001b[0;36m.01\u001b[0m\u001b[0;34m)\u001b[0m\u001b[0;34m\u001b[0m\u001b[0;34m\u001b[0m\u001b[0m\n\u001b[0m",
      "\u001b[0;32m<ipython-input-100-2068550bdc1a>\u001b[0m in \u001b[0;36mto_integrate\u001b[0;34m(time, delta)\u001b[0m\n\u001b[1;32m     32\u001b[0m     \u001b[0;32mdef\u001b[0m \u001b[0mto_integrate\u001b[0m\u001b[0;34m(\u001b[0m\u001b[0mtime\u001b[0m\u001b[0;34m,\u001b[0m \u001b[0mdelta\u001b[0m\u001b[0;34m)\u001b[0m\u001b[0;34m:\u001b[0m\u001b[0;34m\u001b[0m\u001b[0;34m\u001b[0m\u001b[0m\n\u001b[1;32m     33\u001b[0m \u001b[0;34m\u001b[0m\u001b[0m\n\u001b[0;32m---> 34\u001b[0;31m         \u001b[0;32mreturn\u001b[0m \u001b[0mself\u001b[0m\u001b[0;34m.\u001b[0m\u001b[0mmu_force\u001b[0m\u001b[0;34m(\u001b[0m\u001b[0mtime\u001b[0m\u001b[0;34m)\u001b[0m\u001b[0;34m*\u001b[0m\u001b[0mnp\u001b[0m\u001b[0;34m.\u001b[0m\u001b[0mexp\u001b[0m\u001b[0;34m(\u001b[0m\u001b[0;34m-\u001b[0m\u001b[0mtime\u001b[0m\u001b[0;34m*\u001b[0m\u001b[0mdelta\u001b[0m\u001b[0;34m)\u001b[0m\u001b[0;34m*\u001b[0m\u001b[0mself\u001b[0m\u001b[0;34m.\u001b[0m\u001b[0mcontinuous_fitted\u001b[0m\u001b[0;34m(\u001b[0m\u001b[0mtime\u001b[0m\u001b[0;34m)\u001b[0m\u001b[0;34m\u001b[0m\u001b[0;34m\u001b[0m\u001b[0m\n\u001b[0m",
      "\u001b[0;31mNameError\u001b[0m: name 'self' is not defined"
     ]
    }
   ],
   "source": [
    "teste.to_integrate(delta=.01)"
   ]
  },
  {
   "cell_type": "markdown",
   "metadata": {},
   "source": [
    "# Calculando a forca de mortalidade"
   ]
  },
  {
   "cell_type": "code",
   "execution_count": 6,
   "metadata": {},
   "outputs": [],
   "source": [
    "def fmu(sobrevivencia, t):\n",
    "    \n",
    "    return -1/sobrevivencia(t) * sobrevivencia.deriv()(t)"
   ]
  },
  {
   "cell_type": "code",
   "execution_count": 27,
   "metadata": {},
   "outputs": [
    {
     "data": {
      "text/plain": [
       "-0.001981016940290327"
      ]
     },
     "execution_count": 27,
     "metadata": {},
     "output_type": "execute_result"
    }
   ],
   "source": [
    "forca = fmu(s_continua, 10)\n",
    "forca"
   ]
  },
  {
   "cell_type": "markdown",
   "metadata": {},
   "source": [
    "# Calculando o fator desconto"
   ]
  },
  {
   "cell_type": "code",
   "execution_count": 108,
   "metadata": {},
   "outputs": [],
   "source": [
    "def fator(delta, val):\n",
    "    return np.exp(-delta*val)"
   ]
  },
  {
   "cell_type": "markdown",
   "metadata": {},
   "source": [
    "# Calculando Ax continuo"
   ]
  },
  {
   "cell_type": "code",
   "execution_count": 175,
   "metadata": {},
   "outputs": [],
   "source": [
    "sobrevivencia_continua = tpx_continua(qx=qx, age=50, deg=10)"
   ]
  },
  {
   "cell_type": "code",
   "execution_count": 176,
   "metadata": {},
   "outputs": [],
   "source": [
    "forca = lambda tempo: sobrevivencia_continua(tempo)"
   ]
  },
  {
   "cell_type": "code",
   "execution_count": 178,
   "metadata": {},
   "outputs": [],
   "source": [
    "fds = lambda tempo: fator(.0009, tempo)"
   ]
  },
  {
   "cell_type": "code",
   "execution_count": 179,
   "metadata": {},
   "outputs": [],
   "source": [
    "def A(tempo):\n",
    "    return forca(tempo)*fds(tempo)*teste(tempo)"
   ]
  },
  {
   "cell_type": "code",
   "execution_count": 186,
   "metadata": {},
   "outputs": [
    {
     "name": "stderr",
     "output_type": "stream",
     "text": [
      "<ipython-input-186-6f8b5630bd76>:1: IntegrationWarning: The algorithm does not converge.  Roundoff error is detected\n",
      "  in the extrapolation table.  It is assumed that the requested tolerance\n",
      "  cannot be achieved, and that the returned result (if full_output = 1) is \n",
      "  the best which can be obtained.\n",
      "  integrate.quad(A, a=0, b=np.infty)\n"
     ]
    },
    {
     "data": {
      "text/plain": [
       "(6.382060449135197e+48, 1.0112625425921728e+49)"
      ]
     },
     "execution_count": 186,
     "metadata": {},
     "output_type": "execute_result"
    }
   ],
   "source": [
    "integrate.quad(A, a=0, b=np.infty)"
   ]
  },
  {
   "cell_type": "code",
   "execution_count": null,
   "metadata": {},
   "outputs": [],
   "source": []
  }
 ],
 "metadata": {
  "kernelspec": {
   "display_name": "Python 3",
   "language": "python",
   "name": "python3"
  },
  "language_info": {
   "codemirror_mode": {
    "name": "ipython",
    "version": 3
   },
   "file_extension": ".py",
   "mimetype": "text/x-python",
   "name": "python",
   "nbconvert_exporter": "python",
   "pygments_lexer": "ipython3",
   "version": "3.8.5"
  }
 },
 "nbformat": 4,
 "nbformat_minor": 4
}
