{
 "cells": [
  {
   "cell_type": "markdown",
   "metadata": {},
   "source": [
    "# Life Actuarial functions on python\n",
    "\n",
    "The classes implemented on the ``life.discrete_case`` were build based on the book: [Dickson, D.C.M. and Hardy, M.R. and Waters, H.R. - Actuarial Mathematics for Life Contingent Risk. 2013.](https://www.amazon.com.br/Actuarial-Mathematics-Life-Contingent-Risks/dp/1107044073)\n",
    "\n",
    "This notebook uses a csv file that contains the life tables necessary to calculate the actuarial functions. \n",
    "\n",
    "Consider the following variables:\n",
    "\n",
    "* $i$: rate.\n",
    "* $x$: age.\n",
    "* discount factor: $v = \\left(\\dfrac{1}{1+i} \\right)$\n",
    "* $n$: years of contract.\n",
    "* $m$: years of deffering.\n",
    "* $\\omega$: the maximum age a person can reach given according to a life table.\n",
    "* $B$: Benefit.\n",
    "\n",
    "The following methods were build separately by ``python classes``. All functions which refers to life insurance's variations are implemented on the ``life_insurance`` class. And all functions which refers to life annuities variations are implemented on the ``life_annuity`` class. \n",
    "\n",
    "First, lets import the life tables:"
   ]
  },
  {
   "cell_type": "code",
   "execution_count": 1,
   "metadata": {},
   "outputs": [
    {
     "data": {
      "text/html": [
       "<div>\n",
       "<style scoped>\n",
       "    .dataframe tbody tr th:only-of-type {\n",
       "        vertical-align: middle;\n",
       "    }\n",
       "\n",
       "    .dataframe tbody tr th {\n",
       "        vertical-align: top;\n",
       "    }\n",
       "\n",
       "    .dataframe thead th {\n",
       "        text-align: right;\n",
       "    }\n",
       "</style>\n",
       "<table border=\"1\" class=\"dataframe\">\n",
       "  <thead>\n",
       "    <tr style=\"text-align: right;\">\n",
       "      <th></th>\n",
       "      <th>age</th>\n",
       "      <th>at_2000_F</th>\n",
       "      <th>at_2000_M</th>\n",
       "      <th>AT_49_F</th>\n",
       "      <th>AT_49_M</th>\n",
       "      <th>AT_83_F</th>\n",
       "      <th>AT_83_M</th>\n",
       "    </tr>\n",
       "  </thead>\n",
       "  <tbody>\n",
       "    <tr>\n",
       "      <th>0</th>\n",
       "      <td>0</td>\n",
       "      <td>0.001794</td>\n",
       "      <td>0.002311</td>\n",
       "      <td>0.003210</td>\n",
       "      <td>0.004040</td>\n",
       "      <td>0.001835</td>\n",
       "      <td>0.002690</td>\n",
       "    </tr>\n",
       "    <tr>\n",
       "      <th>1</th>\n",
       "      <td>1</td>\n",
       "      <td>0.000755</td>\n",
       "      <td>0.000906</td>\n",
       "      <td>0.001360</td>\n",
       "      <td>0.001580</td>\n",
       "      <td>0.000778</td>\n",
       "      <td>0.001053</td>\n",
       "    </tr>\n",
       "    <tr>\n",
       "      <th>2</th>\n",
       "      <td>2</td>\n",
       "      <td>0.000392</td>\n",
       "      <td>0.000504</td>\n",
       "      <td>0.000703</td>\n",
       "      <td>0.000887</td>\n",
       "      <td>0.000402</td>\n",
       "      <td>0.000591</td>\n",
       "    </tr>\n",
       "    <tr>\n",
       "      <th>3</th>\n",
       "      <td>3</td>\n",
       "      <td>0.000290</td>\n",
       "      <td>0.000408</td>\n",
       "      <td>0.000521</td>\n",
       "      <td>0.000715</td>\n",
       "      <td>0.000298</td>\n",
       "      <td>0.000476</td>\n",
       "    </tr>\n",
       "    <tr>\n",
       "      <th>4</th>\n",
       "      <td>4</td>\n",
       "      <td>0.000232</td>\n",
       "      <td>0.000357</td>\n",
       "      <td>0.000419</td>\n",
       "      <td>0.000627</td>\n",
       "      <td>0.000240</td>\n",
       "      <td>0.000417</td>\n",
       "    </tr>\n",
       "  </tbody>\n",
       "</table>\n",
       "</div>"
      ],
      "text/plain": [
       "   age  at_2000_F  at_2000_M   AT_49_F   AT_49_M   AT_83_F   AT_83_M\n",
       "0    0   0.001794   0.002311  0.003210  0.004040  0.001835  0.002690\n",
       "1    1   0.000755   0.000906  0.001360  0.001580  0.000778  0.001053\n",
       "2    2   0.000392   0.000504  0.000703  0.000887  0.000402  0.000591\n",
       "3    3   0.000290   0.000408  0.000521  0.000715  0.000298  0.000476\n",
       "4    4   0.000232   0.000357  0.000419  0.000627  0.000240  0.000417"
      ]
     },
     "execution_count": 1,
     "metadata": {},
     "output_type": "execute_result"
    }
   ],
   "source": [
    "import pandas as pd\n",
    "import matplotlib.pyplot as plt\n",
    "import numpy as np\n",
    "\n",
    "qx = pd.read_csv('life_tables.csv', sep=';', decimal=',')\n",
    "\n",
    "qx.head()"
   ]
  },
  {
   "cell_type": "markdown",
   "metadata": {},
   "source": [
    "Each column of pandas DataFrame named ``qx`` refers to some of the most famous life tables used in the past. We'll use the female \"AT_2000\" life table on the examples, but feel free to use any one of those on the builded classes. Beyound that, let consider a client with the following attributes:\n",
    "\n",
    "* rate ($i$) = 0.06\n",
    "* age ($x$) = 30\n",
    "* year of contract ($n$) = 25\n",
    "* years of deffering ($m$) = 10\n",
    "* benefit ($B$) = 1\n",
    "\n",
    "It is also possible to calculate fractionals premiums by setting the ``frac`` parameter on each method. For all the examples bellow the premiums will be unique."
   ]
  },
  {
   "cell_type": "code",
   "execution_count": 2,
   "metadata": {},
   "outputs": [],
   "source": [
    "i = .06\n",
    "x = 30\n",
    "n = 25\n",
    "m = 10\n",
    "B = 1"
   ]
  },
  {
   "cell_type": "markdown",
   "metadata": {},
   "source": [
    "\n",
    "# Pure premium for  the annual life insurance's variations\n",
    "\n",
    "The class ``life_insurance`` contains five variations of annual life insurance implemented. To calculate all of those variations we just have to attribute the class to some object:"
   ]
  },
  {
   "cell_type": "code",
   "execution_count": 3,
   "metadata": {},
   "outputs": [],
   "source": [
    "from life.discrete_case import life_insurance\n",
    "\n",
    "#Creating the class\n",
    "li = life_insurance(table=qx['at_2000_F'])"
   ]
  },
  {
   "cell_type": "markdown",
   "metadata": {},
   "source": [
    "Beyound the life insurance's functions the class ``life_insurance`` also provides the life expectation, $\\mathring{e}_{x}$ of a client given some age."
   ]
  },
  {
   "cell_type": "code",
   "execution_count": 4,
   "metadata": {},
   "outputs": [
    {
     "data": {
      "text/plain": [
       "56.0"
      ]
     },
     "execution_count": 4,
     "metadata": {},
     "output_type": "execute_result"
    }
   ],
   "source": [
    "# life expectation\n",
    "li.life_expectation(age=x)"
   ]
  },
  {
   "cell_type": "markdown",
   "metadata": {},
   "source": [
    "## The whole life insurance: \n",
    "$$\n",
    "A_x = B \\cdot \\sum_{k=0}^{\\omega - x} v^{k} {}_{k}p_{x} q_{x+k}\n",
    "$$"
   ]
  },
  {
   "cell_type": "code",
   "execution_count": 5,
   "metadata": {},
   "outputs": [
    {
     "data": {
      "text/plain": [
       "0.054494739588147295"
      ]
     },
     "execution_count": 5,
     "metadata": {},
     "output_type": "execute_result"
    }
   ],
   "source": [
    "# Whole life insurance\n",
    "li.Ax(i=i, age=x, B=B)"
   ]
  },
  {
   "cell_type": "markdown",
   "metadata": {},
   "source": [
    "## The term life insurance:\n",
    "$$\n",
    "A_{_{x}^{1}:\\overline{n}|} = B \\cdot \\sum_{k=0}^{n} v^{k} {}_{k}p_{x} q_{x+k} \\hspace{.5cm} \\text{for } (n+x)<\\omega\n",
    "$$"
   ]
  },
  {
   "cell_type": "code",
   "execution_count": 6,
   "metadata": {},
   "outputs": [
    {
     "data": {
      "text/plain": [
       "0.01048685811919159"
      ]
     },
     "execution_count": 6,
     "metadata": {},
     "output_type": "execute_result"
    }
   ],
   "source": [
    "# Term life insurance\n",
    "li.Ax_tmp(i=i, age=x, tmp=n, B=B)"
   ]
  },
  {
   "cell_type": "markdown",
   "metadata": {},
   "source": [
    "## The deffered whole life insurance:\n",
    "$$\n",
    "{}_{m|}A_x = B \\cdot v^{m} {}_{m}p_{x}  \\cdot \\sum_{k=0}^{\\omega-x} v^{k} {}_{k}p_{x+m} q_{x+m+k} \\hspace{.5cm} \\text{for } (x+m)<\\omega\n",
    "$$"
   ]
  },
  {
   "cell_type": "code",
   "execution_count": 7,
   "metadata": {},
   "outputs": [
    {
     "data": {
      "text/plain": [
       "0.05073688133172147"
      ]
     },
     "execution_count": 7,
     "metadata": {},
     "output_type": "execute_result"
    }
   ],
   "source": [
    "# Deffered whole life insurance\n",
    "li.def_Ax(i=i, age=x, n_def=m, B=B)"
   ]
  },
  {
   "cell_type": "markdown",
   "metadata": {},
   "source": [
    "## The deffered term life insurance:\n",
    "$$\n",
    "{}_{m|}A_{_{x}^{1}:\\overline{n}|} = B \\cdot v^{m} {}_{m}p_{x}  \\cdot \\sum_{k=0}^{n} v^{k} {}_{k}p_{x+m} q_{x+m+k} \\hspace{.5cm} \\text{for } (x+m+n)<\\omega\n",
    "$$"
   ]
  },
  {
   "cell_type": "code",
   "execution_count": 8,
   "metadata": {},
   "outputs": [
    {
     "data": {
      "text/plain": [
       "0.01344516456119554"
      ]
     },
     "execution_count": 8,
     "metadata": {},
     "output_type": "execute_result"
    }
   ],
   "source": [
    "# Defferd term life insurance\n",
    "li.def_Ax_tmp(i=i, age=x, n_def=m, tmp=n, B=B)"
   ]
  },
  {
   "cell_type": "markdown",
   "metadata": {},
   "source": [
    "## Pure Endowment\n",
    "\n",
    "$$\n",
    "{}_{n}E_{x} = A_{_{x}:{}_{\\overline{n}|}^{1}} = B \\cdot v^{m} {}_{m}p_{x}\n",
    "$$"
   ]
  },
  {
   "cell_type": "code",
   "execution_count": 9,
   "metadata": {},
   "outputs": [
    {
     "data": {
      "text/plain": [
       "0.22699118838864613"
      ]
     },
     "execution_count": 9,
     "metadata": {},
     "output_type": "execute_result"
    }
   ],
   "source": [
    "# Pure Endowment\n",
    "li.Pure_Endow(i=i, age=x, tmp=n, B=B)"
   ]
  },
  {
   "cell_type": "markdown",
   "metadata": {},
   "source": [
    "## Endowment\n",
    "\n",
    "$$\n",
    "A_{x:\\overline{n}|} = B \\cdot A_{_{x}:{}_{\\overline{n}|}^{1}} + A_{_{x}^{1}:\\overline{n}|}\n",
    "$$"
   ]
  },
  {
   "cell_type": "code",
   "execution_count": 10,
   "metadata": {},
   "outputs": [
    {
     "data": {
      "text/plain": [
       "0.2374780465078375"
      ]
     },
     "execution_count": 10,
     "metadata": {},
     "output_type": "execute_result"
    }
   ],
   "source": [
    "# Endowment\n",
    "li.Endowment(i=i, age=x, tmp=n, B=B)"
   ]
  },
  {
   "cell_type": "markdown",
   "metadata": {},
   "source": [
    "# Pure premium for  the annual life annuities variations\n",
    "\n",
    "The classs ``life_annuity`` contains eight variations of life annuities as it follows. Just as it take on the life insurance class, lets atribute the life_annuity class to some object"
   ]
  },
  {
   "cell_type": "code",
   "execution_count": 11,
   "metadata": {},
   "outputs": [],
   "source": [
    "from life.discrete_case import life_annuity\n",
    "\n",
    "# Build class\n",
    "la = life_annuity(table=qx['at_2000_F'])"
   ]
  },
  {
   "cell_type": "markdown",
   "metadata": {},
   "source": [
    "## The whole life annuity:\n",
    "$$\n",
    "a_{x} = \\sum_{k=1}^{\\omega - x} v^{k} {}_{k}p_{x}\n",
    "$$"
   ]
  },
  {
   "cell_type": "code",
   "execution_count": 12,
   "metadata": {},
   "outputs": [
    {
     "data": {
      "text/plain": [
       "15.703926267276024"
      ]
     },
     "execution_count": 12,
     "metadata": {},
     "output_type": "execute_result"
    }
   ],
   "source": [
    "# The whole life annuity\n",
    "la.ax(i=i, age=x, B=B)"
   ]
  },
  {
   "cell_type": "markdown",
   "metadata": {},
   "source": [
    "## The whole life annuity-due:\n",
    "$$\n",
    "\\ddot{a}_{x} = \\sum_{k=0}^{\\omega - x} v^{k} {}_{k}p_{x}\n",
    "$$"
   ]
  },
  {
   "cell_type": "code",
   "execution_count": 13,
   "metadata": {},
   "outputs": [
    {
     "data": {
      "text/plain": [
       "16.703926267276024"
      ]
     },
     "execution_count": 13,
     "metadata": {},
     "output_type": "execute_result"
    }
   ],
   "source": [
    "# The whole life annuity-due\n",
    "la.ax(i=i, age=x, B=B, due=True)"
   ]
  },
  {
   "cell_type": "markdown",
   "metadata": {},
   "source": [
    "## The term life annuity:\n",
    "$$\n",
    "a_{x:\\overline{n}|} = \\sum_{k=1}^{n} v^{k} {}_{k}p_{x}\n",
    "$$"
   ]
  },
  {
   "cell_type": "code",
   "execution_count": 14,
   "metadata": {},
   "outputs": [
    {
     "data": {
      "text/plain": [
       "12.698212366750155"
      ]
     },
     "execution_count": 14,
     "metadata": {},
     "output_type": "execute_result"
    }
   ],
   "source": [
    "# The term life annuity\n",
    "la.ax_tmp(i=i, age=x, tmp=n, B=B)"
   ]
  },
  {
   "cell_type": "markdown",
   "metadata": {},
   "source": [
    "## The term life annuity-due:\n",
    "$$\n",
    "\\ddot{a}_{x:\\overline{n}|} = \\sum_{k=0}^{n} v^{k} {}_{k}p_{x}\n",
    "$$"
   ]
  },
  {
   "cell_type": "code",
   "execution_count": 15,
   "metadata": {},
   "outputs": [
    {
     "data": {
      "text/plain": [
       "13.471221178361509"
      ]
     },
     "execution_count": 15,
     "metadata": {},
     "output_type": "execute_result"
    }
   ],
   "source": [
    "# The term life annuity-due\n",
    "la.ax_tmp(i=i, age=x, tmp=n, B=B, due=True)"
   ]
  },
  {
   "cell_type": "markdown",
   "metadata": {},
   "source": [
    "## The deffered whole life annuity:\n",
    "\n",
    "$$\n",
    "{}_{m|}a_{x} = v^{m} {}_{m}p_{x} \\sum_{k=1}^{\\omega - m - x} v^{k} {}_{k}p_{x+m}\n",
    "$$"
   ]
  },
  {
   "cell_type": "code",
   "execution_count": 16,
   "metadata": {},
   "outputs": [
    {
     "data": {
      "text/plain": [
       "8.361909724417721"
      ]
     },
     "execution_count": 16,
     "metadata": {},
     "output_type": "execute_result"
    }
   ],
   "source": [
    "# The deffered whole life annuity\n",
    "la.def_ax(i=i, age=x, n_def=m, B=B)"
   ]
  },
  {
   "cell_type": "markdown",
   "metadata": {},
   "source": [
    "## The deffered whole life annuity-due:\n",
    "\n",
    "$$\n",
    "{}_{m|}\\ddot{a}_{x} = v^{m} {}_{m}p_{x} \\sum_{k=0}^{\\omega - m - x} v^{k} {}_{k}p_{x+m}\n",
    "$$"
   ]
  },
  {
   "cell_type": "code",
   "execution_count": 17,
   "metadata": {},
   "outputs": [
    {
     "data": {
      "text/plain": [
       "8.91740540209441"
      ]
     },
     "execution_count": 17,
     "metadata": {},
     "output_type": "execute_result"
    }
   ],
   "source": [
    "# The deffered whole life annuity-due\n",
    "la.def_ax(i=i, age=x, n_def=m, B=B, due=True)"
   ]
  },
  {
   "cell_type": "markdown",
   "metadata": {},
   "source": [
    "## The deffered term life annuity:\n",
    "\n",
    "$$\n",
    "{}_{m|}a_{x:\\overline{n}|} = v^{m} {}_{m}p_{x} \\sum_{k=1}^{n} v^{k} {}_{k}p_{x+m}\n",
    "$$\n"
   ]
  },
  {
   "cell_type": "code",
   "execution_count": 18,
   "metadata": {},
   "outputs": [
    {
     "data": {
      "text/plain": [
       "6.996823934926395"
      ]
     },
     "execution_count": 18,
     "metadata": {},
     "output_type": "execute_result"
    }
   ],
   "source": [
    "# The deffered term life annuity\n",
    "la.def_ax_tmp(i=i, age=x, n_def=m, tmp=n, B=B)"
   ]
  },
  {
   "cell_type": "markdown",
   "metadata": {},
   "source": [
    "## The deffered term life annuity-due:\n",
    "\n",
    "$$\n",
    "{}_{m|}\\ddot{a}_{x:\\overline{n}|} = v^{m} {}_{m}p_{x} \\sum_{k=0}^{n} v^{k} {}_{k}p_{x+m}\n",
    "$$"
   ]
  },
  {
   "cell_type": "code",
   "execution_count": 19,
   "metadata": {},
   "outputs": [
    {
     "data": {
      "text/plain": [
       "7.430885245456848"
      ]
     },
     "execution_count": 19,
     "metadata": {},
     "output_type": "execute_result"
    }
   ],
   "source": [
    "# The deffered term life annuity-due\n",
    "la.def_ax_tmp(i=i, age=x, n_def=m, tmp=n, B=B, due=True)"
   ]
  },
  {
   "cell_type": "markdown",
   "metadata": {},
   "source": [
    "# Continuous case for life insurace benefits\n",
    "\n",
    "The class ``life.continuous_case`` provides many usefull methods to calculate the premium for life insurace benefits for continuous case. \n",
    "\n",
    "For all of the subproducts the force of mortality is generated by a polynomial fitted on the probability of survival given by the function ${}_{t}p_{x}$, where\n",
    "\n",
    "$$\n",
    "    {}_{t}p_{x} = \\prod_{x}^{t} 1 - q_{x+t}\n",
    "$$\n",
    "\n",
    "Thus, the first thing to do is to fit a polynomial function to transform ${}_{t}p_{x} \\rightarrow S_0(x)$."
   ]
  },
  {
   "cell_type": "code",
   "execution_count": 20,
   "metadata": {},
   "outputs": [],
   "source": [
    "# Creating the class and building the tpx function\n",
    "import life.continuous_case as cont_life\n",
    "\n",
    "Ax_continuous = cont_life.life_insurance(qx=qx['at_2000_F'])"
   ]
  },
  {
   "cell_type": "markdown",
   "metadata": {},
   "source": []
  },
  {
   "cell_type": "markdown",
   "metadata": {},
   "source": [
    "## The function ${}_{t}p_{x}$\n",
    "\n",
    "Since the class is already created it is possible to calculate any probability of ${}_{t}p_{x}$:"
   ]
  },
  {
   "cell_type": "code",
   "execution_count": 21,
   "metadata": {},
   "outputs": [
    {
     "data": {
      "text/plain": [
       "0.9948081548068113"
      ]
     },
     "execution_count": 21,
     "metadata": {},
     "output_type": "execute_result"
    }
   ],
   "source": [
    "# Probability of an aged 30 survives until 40 years:\n",
    "Ax_continuous.calc_tpx(t=10, x=30)"
   ]
  },
  {
   "cell_type": "markdown",
   "metadata": {},
   "source": [
    "Let's consider a client aged 30. For any possible future age of this client there is probability ${}_{t}p_{30}$ associated to this age and also a distribution:"
   ]
  },
  {
   "cell_type": "code",
   "execution_count": 22,
   "metadata": {},
   "outputs": [
    {
     "data": {
      "image/png": "[encoded data removed]",
      "text/plain": [
       "<Figure size 1152x432 with 1 Axes>"
      ]
     },
     "metadata": {
      "needs_background": "light"
     },
     "output_type": "display_data"
    }
   ],
   "source": [
    "# Creating the vector tp30\n",
    "fig, ax = plt.subplots(figsize=[16,6])\n",
    "\n",
    "time = np.arange(0, len(qx['at_2000_F'])-30)\n",
    "probs = [Ax_continuous.calc_tpx(t, x=30) for t in time]\n",
    "plt.scatter(time, probs);"
   ]
  },
  {
   "cell_type": "markdown",
   "metadata": {},
   "source": [
    "## Fitting a new survival function: ${}_{t}p_{x} \\rightarrow S_{x}(t)$\n",
    "\n",
    "The next step is to find a continuous funtion that fits on the pair data points generated by the vector time and the function ${}_{t}p_{30}$. But before that it is necessary to fit a continuous function to the function ${}_{t}p_{0}$, i.e, $S_0(t)$. To do that we must use the ``fit_Survival_from_birth`` method."
   ]
  },
  {
   "cell_type": "code",
   "execution_count": 23,
   "metadata": {},
   "outputs": [],
   "source": [
    "Ax_continuous.fit_Survival_from_birth(deg=9)"
   ]
  },
  {
   "cell_type": "markdown",
   "metadata": {},
   "source": [
    "The code above fitted a polynomial function of degree 9 to the function ${}_{t}p_{0}$. The result of ``fit_Survival_from_birth`` method is a ``numpy Polynomial class`` and this allow us to see easyly what are the coefficients:"
   ]
  },
  {
   "cell_type": "code",
   "execution_count": 24,
   "metadata": {},
   "outputs": [
    {
     "data": {
      "text/latex": [
       "$x \\mapsto \\text{-3.05875323372599e-16} + \\text{1.343231609137871e-13}\\,x - \\text{2.3773211981126028e-11}\\,x^{2} + \\text{2.186285022051548e-09}\\,x^{3} - \\text{1.1248793743656965e-07}\\,x^{4} + \\text{3.2304161814595647e-06}\\,x^{5} - \\text{4.8601503161842884e-05}\\,x^{6} + \\text{0.0003265859855805871}\\,x^{7} - \\text{0.0008862311142940182}\\,x^{8} + \\text{0.9982603821653289}\\,x^{9}$"
      ],
      "text/plain": [
       "Polynomial([-3.05875323e-16,  1.34323161e-13, -2.37732120e-11,  2.18628502e-09,\n",
       "       -1.12487937e-07,  3.23041618e-06, -4.86015032e-05,  3.26585986e-04,\n",
       "       -8.86231114e-04,  9.98260382e-01], domain=[-1,  1], window=[-1,  1])"
      ]
     },
     "execution_count": 24,
     "metadata": {},
     "output_type": "execute_result"
    }
   ],
   "source": [
    "Ax_continuous.Survival_from_birth_Coef"
   ]
  },
  {
   "cell_type": "markdown",
   "metadata": {},
   "source": [
    "Once the $S_0(x)$ is fitted another function is automaticaly generated: $S_{x}(t)$. To use it we just have to call ``Survival_from_age`` method."
   ]
  },
  {
   "cell_type": "code",
   "execution_count": 25,
   "metadata": {},
   "outputs": [
    {
     "data": {
      "image/png": "[encoded data removed]",
      "text/plain": [
       "<Figure size 1152x432 with 1 Axes>"
      ]
     },
     "metadata": {
      "needs_background": "light"
     },
     "output_type": "display_data"
    }
   ],
   "source": [
    "fig, ax = plt.subplots(figsize=[16,6])\n",
    "\n",
    "plt.scatter(time, probs, label=r'${}_{x}p_{30}$');\n",
    "plt.plot(time, Ax_continuous.Survival_from_age(age=30, to=time), color='red', label=f'Polinômio de grau {Ax_continuous.Survival_from_birth_Coef.degree()}')\n",
    "plt.legend();"
   ]
  },
  {
   "cell_type": "markdown",
   "metadata": {},
   "source": [
    "# The mortality force $\\mu_x$\n",
    "\n",
    "The mortality force, $\\mu_x$, is given by:\n",
    "\n",
    "$$\n",
    "    \\mu_x = - \\dfrac{1}{S_0(x)} \\dfrac{d}{dx}S_0(x)\n",
    "$$\n",
    "\n",
    "And this is why we had to build all of those functions before. Thus, to calculate the force of mortality of given aged $x$ we need to use ``mu_force`` method."
   ]
  },
  {
   "cell_type": "code",
   "execution_count": 26,
   "metadata": {},
   "outputs": [
    {
     "data": {
      "text/plain": [
       "6.615110796861221e-05"
      ]
     },
     "execution_count": 26,
     "metadata": {},
     "output_type": "execute_result"
    }
   ],
   "source": [
    "Ax_continuous.mu_force(age=30)"
   ]
  },
  {
   "cell_type": "markdown",
   "metadata": {},
   "source": [
    "# Premium for $\\bar{A}_{x}$\n",
    "\n",
    "Remember that when in continuous case the discount factor is given by:\n",
    "\n",
    "$$\n",
    "    e^{-\\delta t},\n",
    "$$\n",
    "\n",
    "and, \n",
    "\n",
    "$$\n",
    "    \\bar{A}_{x} = \\int_{0}^{\\infty} e^{-\\delta t} {}_{t}p_{x} \\mu_{x+t} dt .\n",
    "$$\n",
    "\n",
    "Than, we need to define a function to be integrated given some $\\delta$:"
   ]
  },
  {
   "cell_type": "code",
   "execution_count": 27,
   "metadata": {},
   "outputs": [],
   "source": [
    "Ax_continuous.define_integral(delta=.06)"
   ]
  },
  {
   "cell_type": "markdown",
   "metadata": {},
   "source": [
    "Now, let's calculate the premium!"
   ]
  },
  {
   "cell_type": "code",
   "execution_count": 28,
   "metadata": {},
   "outputs": [
    {
     "data": {
      "text/plain": [
       "0.3920716670994581"
      ]
     },
     "execution_count": 28,
     "metadata": {},
     "output_type": "execute_result"
    }
   ],
   "source": [
    "Ax_continuous.premium(contract=np.infty, B=1)"
   ]
  },
  {
   "cell_type": "markdown",
   "metadata": {},
   "source": [
    "# Premium for term life on continuous case\n",
    "\n",
    "Common... I bet you already know what we need to do!"
   ]
  },
  {
   "cell_type": "code",
   "execution_count": 29,
   "metadata": {},
   "outputs": [
    {
     "data": {
      "text/plain": [
       "0.0013349460859205134"
      ]
     },
     "execution_count": 29,
     "metadata": {},
     "output_type": "execute_result"
    }
   ],
   "source": [
    "Ax_continuous.premium(contract=10, B=1)"
   ]
  }
 ],
 "metadata": {
  "kernelspec": {
   "display_name": "Python 3",
   "language": "python",
   "name": "python3"
  },
  "language_info": {
   "codemirror_mode": {
    "name": "ipython",
    "version": 3
   },
   "file_extension": ".py",
   "mimetype": "text/x-python",
   "name": "python",
   "nbconvert_exporter": "python",
   "pygments_lexer": "ipython3",
   "version": "3.8.5"
  },
  "vscode": {
   "interpreter": {
    "hash": "916dbcbb3f70747c44a77c7bcd40155683ae19c65e1c03b4aa3499c5328201f1"
   }
  }
 },
 "nbformat": 4,
 "nbformat_minor": 4
}
