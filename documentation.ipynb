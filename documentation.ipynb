{
 "cells": [
  {
   "cell_type": "markdown",
   "metadata": {},
   "source": [
    "# Life Actuarial functions on python\n",
    "\n",
    "The classes implemented on the ``life.discrete_case`` were build based on the book: [Dickson, D.C.M. and Hardy, M.R. and Waters, H.R. - Actuarial Mathematics for Life Contingent Risk. 2013.](https://www.amazon.com.br/Actuarial-Mathematics-Life-Contingent-Risks/dp/1107044073)\n",
    "\n",
    "This notebook uses a csv file that contains the life tables necessary to calculate the actuarial functions. \n",
    "\n",
    "Consider the following variables:\n",
    "\n",
    "* $i$: rate.\n",
    "* $x$: age.\n",
    "* discount factor: $v = \\left(\\dfrac{1}{1+i} \\right)$\n",
    "* $n$: years of contract.\n",
    "* $m$: years of deffering.\n",
    "* $\\omega$: the maximum age a person can reach given according to a life table.\n",
    "* $B$: Benefit.\n",
    "\n",
    "The following methods were build separately by ``python classes``. All functions which refers to life insurance's variations are implemented on the ``life_insurance`` class. And all functions which refers to life annuities variations are implemented on the ``life_annuity`` class. \n",
    "\n",
    "First, lets import the life tables:"
   ]
  },
  {
   "cell_type": "code",
   "execution_count": 1,
   "metadata": {},
   "outputs": [],
   "source": [
    "import pandas as pd\n",
    "import matplotlib.pyplot as plt\n",
    "import numpy as np\n",
    "\n",
    "qx = pd.read_csv('life_tables.csv')\n",
    "\n",
    "qx.head()\n",
    "\n",
    "%load_ext autoreload\n",
    "%autoreload 2"
   ]
  },
  {
   "cell_type": "markdown",
   "metadata": {},
   "source": [
    "Each column of pandas DataFrame named ``qx`` refers to some of the most famous life tables used in the past. We'll use the female \"AT_2000\" life table on the examples, but feel free to use any one of those on the builded classes. Beyound that, let consider a client with the following attributes:\n",
    "\n",
    "* rate ($i$) = 0.06\n",
    "* age ($x$) = 30\n",
    "* year of contract ($n$) = 25\n",
    "* years of deffering ($m$) = 10\n",
    "* benefit ($B$) = 1\n",
    "\n",
    "It is also possible to calculate fractionals premiums by setting the ``frac`` parameter on each method. For all the examples bellow the premiums will be unique."
   ]
  },
  {
   "cell_type": "code",
   "execution_count": 2,
   "metadata": {},
   "outputs": [],
   "source": [
    "i=.06\n",
    "x=30\n",
    "n=25\n",
    "m = 10\n",
    "B = 1"
   ]
  },
  {
   "cell_type": "markdown",
   "metadata": {},
   "source": [
    "\n",
    "# Pure premium for  the annual life insurance's variations\n",
    "\n",
    "The class ``life_insurance`` contains five variations of annual life insurance implemented. To calculate all of those variations we just have to attribute the class to some object:"
   ]
  },
  {
   "cell_type": "code",
   "execution_count": 3,
   "metadata": {},
   "outputs": [],
   "source": [
    "from life.insurance import isrc_discrete\n",
    "\n",
    "#Creating the class\n",
    "Ax_discrete = isrc_discrete(table=qx['AT_2000_F'])"
   ]
  },
  {
   "cell_type": "markdown",
   "metadata": {},
   "source": [
    "Beyound the life insurance's functions the class ``life_insurance`` also provides the life expectation, $\\mathring{e}_{x}$ of a client given some age."
   ]
  },
  {
   "cell_type": "code",
   "execution_count": 4,
   "metadata": {},
   "outputs": [
    {
     "data": {
      "text/plain": [
       "56.0"
      ]
     },
     "execution_count": 4,
     "metadata": {},
     "output_type": "execute_result"
    }
   ],
   "source": [
    "# life expectation\n",
    "Ax_discrete.life_expectation(age=x)"
   ]
  },
  {
   "cell_type": "markdown",
   "metadata": {},
   "source": [
    "## The whole life insurance: \n",
    "$$\n",
    "A_x = B \\cdot \\sum_{k=0}^{\\omega - x} v^{k} {}_{k}p_{x} q_{x+k}\n",
    "$$"
   ]
  },
  {
   "cell_type": "code",
   "execution_count": 5,
   "metadata": {},
   "outputs": [
    {
     "data": {
      "text/plain": [
       "0.054494739588147295"
      ]
     },
     "execution_count": 5,
     "metadata": {},
     "output_type": "execute_result"
    }
   ],
   "source": [
    "# Whole life insurance\n",
    "Ax_discrete.Ax(i=i, age=x, B=B)"
   ]
  },
  {
   "cell_type": "markdown",
   "metadata": {},
   "source": [
    "## The term life insurance:\n",
    "$$\n",
    "A_{_{x}^{1}:\\overline{n}|} = B \\cdot \\sum_{k=0}^{n} v^{k} {}_{k}p_{x} q_{x+k} \\hspace{.5cm} \\text{for } (n+x)<\\omega\n",
    "$$"
   ]
  },
  {
   "cell_type": "code",
   "execution_count": 6,
   "metadata": {},
   "outputs": [
    {
     "data": {
      "text/plain": [
       "0.01048685811919159"
      ]
     },
     "execution_count": 6,
     "metadata": {},
     "output_type": "execute_result"
    }
   ],
   "source": [
    "# Term life insurance\n",
    "Ax_discrete.Ax_tmp(i=i, age=x, tmp=n, B=B)"
   ]
  },
  {
   "cell_type": "markdown",
   "metadata": {},
   "source": [
    "## The deffered whole life insurance:\n",
    "$$\n",
    "{}_{m|}A_x = B \\cdot v^{m} {}_{m}p_{x}  \\cdot \\sum_{k=0}^{\\omega-x} v^{k} {}_{k}p_{x+m} q_{x+m+k} \\hspace{.5cm} \\text{for } (x+m)<\\omega\n",
    "$$"
   ]
  },
  {
   "cell_type": "code",
   "execution_count": 7,
   "metadata": {},
   "outputs": [
    {
     "data": {
      "text/plain": [
       "0.05073688133172147"
      ]
     },
     "execution_count": 7,
     "metadata": {},
     "output_type": "execute_result"
    }
   ],
   "source": [
    "# Deffered whole life insurance\n",
    "Ax_discrete.def_Ax(i=i, age=x, n_def=m, B=B)"
   ]
  },
  {
   "cell_type": "markdown",
   "metadata": {},
   "source": [
    "## The deffered term life insurance:\n",
    "$$\n",
    "{}_{m|}A_{_{x}^{1}:\\overline{n}|} = B \\cdot v^{m} {}_{m}p_{x}  \\cdot \\sum_{k=0}^{n} v^{k} {}_{k}p_{x+m} q_{x+m+k} \\hspace{.5cm} \\text{for } (x+m+n)<\\omega\n",
    "$$"
   ]
  },
  {
   "cell_type": "code",
   "execution_count": 8,
   "metadata": {},
   "outputs": [
    {
     "data": {
      "text/plain": [
       "0.01344516456119554"
      ]
     },
     "execution_count": 8,
     "metadata": {},
     "output_type": "execute_result"
    }
   ],
   "source": [
    "# Defferd term life insurance\n",
    "Ax_discrete.def_Ax_tmp(i=i, age=x, n_def=m, tmp=n, B=B)"
   ]
  },
  {
   "cell_type": "markdown",
   "metadata": {},
   "source": [
    "## Pure Endowment\n",
    "\n",
    "$$\n",
    "{}_{n}E_{x} = A_{_{x}:{}_{\\overline{n}|}^{1}} = B \\cdot v^{m} {}_{m}p_{x}\n",
    "$$"
   ]
  },
  {
   "cell_type": "code",
   "execution_count": 9,
   "metadata": {},
   "outputs": [
    {
     "data": {
      "text/plain": [
       "0.22699118838864613"
      ]
     },
     "execution_count": 9,
     "metadata": {},
     "output_type": "execute_result"
    }
   ],
   "source": [
    "# Pure Endowment\n",
    "Ax_discrete.Pure_Endow(i=i, age=x, tmp=n, B=B)"
   ]
  },
  {
   "cell_type": "markdown",
   "metadata": {},
   "source": [
    "## Endowment\n",
    "\n",
    "$$\n",
    "A_{x:\\overline{n}|} = B \\cdot A_{_{x}:{}_{\\overline{n}|}^{1}} + A_{_{x}^{1}:\\overline{n}|}\n",
    "$$"
   ]
  },
  {
   "cell_type": "code",
   "execution_count": 10,
   "metadata": {},
   "outputs": [
    {
     "data": {
      "text/plain": [
       "0.2374780465078375"
      ]
     },
     "execution_count": 10,
     "metadata": {},
     "output_type": "execute_result"
    }
   ],
   "source": [
    "# Endowment\n",
    "Ax_discrete.Endowment(i=i, age=x, tmp=n, B=B)"
   ]
  },
  {
   "cell_type": "markdown",
   "metadata": {},
   "source": [
    "# Pure premium for  the annual life annuities variations\n",
    "\n",
    "The classs ``life_annuity`` contains eight variations of life annuities as it follows. Just as it take on the life insurance class, lets atribute the life_annuity class to some object"
   ]
  },
  {
   "cell_type": "code",
   "execution_count": 11,
   "metadata": {},
   "outputs": [],
   "source": [
    "from life.annuity import ann_discrete \n",
    "\n",
    "# Build class\n",
    "ax_discrete = ann_discrete(table=qx['AT_2000_F'])"
   ]
  },
  {
   "cell_type": "markdown",
   "metadata": {},
   "source": [
    "## The whole life annuity:\n",
    "$$\n",
    "a_{x} = \\sum_{k=1}^{\\omega - x} v^{k} {}_{k}p_{x}\n",
    "$$"
   ]
  },
  {
   "cell_type": "code",
   "execution_count": 12,
   "metadata": {},
   "outputs": [
    {
     "data": {
      "text/plain": [
       "15.703926267276024"
      ]
     },
     "execution_count": 12,
     "metadata": {},
     "output_type": "execute_result"
    }
   ],
   "source": [
    "# The whole life annuity\n",
    "ax_discrete.ax(i=i, age=x, B=B)"
   ]
  },
  {
   "cell_type": "markdown",
   "metadata": {},
   "source": [
    "## The whole life annuity-due:\n",
    "$$\n",
    "\\ddot{a}_{x} = \\sum_{k=0}^{\\omega - x} v^{k} {}_{k}p_{x}\n",
    "$$"
   ]
  },
  {
   "cell_type": "code",
   "execution_count": 13,
   "metadata": {},
   "outputs": [
    {
     "data": {
      "text/plain": [
       "16.703926267276024"
      ]
     },
     "execution_count": 13,
     "metadata": {},
     "output_type": "execute_result"
    }
   ],
   "source": [
    "# The whole life annuity-due\n",
    "ax_discrete.ax(i=i, age=x, B=B, due=True)"
   ]
  },
  {
   "cell_type": "markdown",
   "metadata": {},
   "source": [
    "## The term life annuity:\n",
    "$$\n",
    "a_{x:\\overline{n}|} = \\sum_{k=1}^{n} v^{k} {}_{k}p_{x}\n",
    "$$"
   ]
  },
  {
   "cell_type": "code",
   "execution_count": 14,
   "metadata": {},
   "outputs": [
    {
     "data": {
      "text/plain": [
       "12.698212366750155"
      ]
     },
     "execution_count": 14,
     "metadata": {},
     "output_type": "execute_result"
    }
   ],
   "source": [
    "# The term life annuity\n",
    "ax_discrete.ax_tmp(i=i, age=x, tmp=n, B=B)"
   ]
  },
  {
   "cell_type": "markdown",
   "metadata": {},
   "source": [
    "## The term life annuity-due:\n",
    "$$\n",
    "\\ddot{a}_{x:\\overline{n}|} = \\sum_{k=0}^{n} v^{k} {}_{k}p_{x}\n",
    "$$"
   ]
  },
  {
   "cell_type": "code",
   "execution_count": 15,
   "metadata": {},
   "outputs": [
    {
     "data": {
      "text/plain": [
       "13.471221178361509"
      ]
     },
     "execution_count": 15,
     "metadata": {},
     "output_type": "execute_result"
    }
   ],
   "source": [
    "# The term life annuity-due\n",
    "ax_discrete.ax_tmp(i=i, age=x, tmp=n, B=B, due=True)"
   ]
  },
  {
   "cell_type": "markdown",
   "metadata": {},
   "source": [
    "## The deffered whole life annuity:\n",
    "\n",
    "$$\n",
    "{}_{m|}a_{x} = v^{m} {}_{m}p_{x} \\sum_{k=1}^{\\omega - m - x} v^{k} {}_{k}p_{x+m}\n",
    "$$"
   ]
  },
  {
   "cell_type": "code",
   "execution_count": 16,
   "metadata": {},
   "outputs": [
    {
     "data": {
      "text/plain": [
       "8.361909724417721"
      ]
     },
     "execution_count": 16,
     "metadata": {},
     "output_type": "execute_result"
    }
   ],
   "source": [
    "# The deffered whole life annuity\n",
    "ax_discrete.def_ax(i=i, age=x, n_def=m, B=B)"
   ]
  },
  {
   "cell_type": "markdown",
   "metadata": {},
   "source": [
    "## The deffered whole life annuity-due:\n",
    "\n",
    "$$\n",
    "{}_{m|}\\ddot{a}_{x} = v^{m} {}_{m}p_{x} \\sum_{k=0}^{\\omega - m - x} v^{k} {}_{k}p_{x+m}\n",
    "$$"
   ]
  },
  {
   "cell_type": "code",
   "execution_count": 17,
   "metadata": {},
   "outputs": [
    {
     "data": {
      "text/plain": [
       "8.91740540209441"
      ]
     },
     "execution_count": 17,
     "metadata": {},
     "output_type": "execute_result"
    }
   ],
   "source": [
    "# The deffered whole life annuity-due\n",
    "ax_discrete.def_ax(i=i, age=x, n_def=m, B=B, due=True)"
   ]
  },
  {
   "cell_type": "markdown",
   "metadata": {},
   "source": [
    "## The deffered term life annuity:\n",
    "\n",
    "$$\n",
    "{}_{m|}a_{x:\\overline{n}|} = v^{m} {}_{m}p_{x} \\sum_{k=1}^{n} v^{k} {}_{k}p_{x+m}\n",
    "$$\n"
   ]
  },
  {
   "cell_type": "code",
   "execution_count": 18,
   "metadata": {},
   "outputs": [
    {
     "data": {
      "text/plain": [
       "6.996823934926395"
      ]
     },
     "execution_count": 18,
     "metadata": {},
     "output_type": "execute_result"
    }
   ],
   "source": [
    "# The deffered term life annuity\n",
    "ax_discrete.def_ax_tmp(i=i, age=x, n_def=m, tmp=n, B=B)"
   ]
  },
  {
   "cell_type": "markdown",
   "metadata": {},
   "source": [
    "## The deffered term life annuity-due:\n",
    "\n",
    "$$\n",
    "{}_{m|}\\ddot{a}_{x:\\overline{n}|} = v^{m} {}_{m}p_{x} \\sum_{k=0}^{n} v^{k} {}_{k}p_{x+m}\n",
    "$$"
   ]
  },
  {
   "cell_type": "code",
   "execution_count": 19,
   "metadata": {},
   "outputs": [
    {
     "data": {
      "text/plain": [
       "7.430885245456848"
      ]
     },
     "execution_count": 19,
     "metadata": {},
     "output_type": "execute_result"
    }
   ],
   "source": [
    "# The deffered term life annuity-due\n",
    "ax_discrete.def_ax_tmp(i=i, age=x, n_def=m, tmp=n, B=B, due=True)"
   ]
  },
  {
   "cell_type": "markdown",
   "metadata": {},
   "source": [
    "# Continuous case for life insurace benefits\n",
    "\n",
    "The class ``life.continuous_case`` provides many usefull methods to calculate the premium for life insurace benefits for continuous case. \n",
    "\n",
    "The core of this class is to provide a continuous function $S_x(t)$ throught polynomial interpolation method. Also it is impotant to notice that as hight as the degree of that polinomyal is, stronger the UDD (Uniform Distribution of Deaths) is. Rembember that under UDD1, for integer $x$, and for $0 \\leq s < 1$, it is assumed that\n",
    "\n",
    "$$\n",
    "    q_{x} = {}_{s}q_{x}, \\hspace{.2cm} 0 \\leq s \\leq 1\n",
    "$$\n",
    "\n",
    "And this result take us to\n",
    "\n",
    "$$\n",
    "  \\dfrac{d}{ds}{}_{s}q_{x} = q_{x} \\implies q_{x} = {}_{s}p_{x}\\mu_{x+s}\n",
    "$$\n",
    "\n",
    "for $0 \\leq s < 1$.\n",
    "\n",
    "For all of the subproducts the force of mortality is generated by a polynomial fitted on the probability of survival given by the function ${}_{t}p_{x}$, where\n",
    "\n",
    "$$\n",
    "    {}_{t}p_{x} = \\prod_{x}^{t} 1 - q_{x+t}\n",
    "$$\n",
    "\n",
    "Thus, the first thing to do is to fit a polynomial function to transform ${}_{t}p_{x} \\rightarrow S_0(x)$."
   ]
  },
  {
   "cell_type": "code",
   "execution_count": 20,
   "metadata": {},
   "outputs": [],
   "source": [
    "# Creating the insurace continuous class\n",
    "from life.insurance import isrc_continuous\n",
    "\n",
    "Ax_continuous = isrc_continuous(table=qx['AT_2000_F'])"
   ]
  },
  {
   "cell_type": "markdown",
   "metadata": {},
   "source": [
    "## The function ${}_{t}p_{x}$\n",
    "\n",
    "Since the class is already created it is possible to calculate any probability of ${}_{t}p_{x}$:"
   ]
  },
  {
   "cell_type": "code",
   "execution_count": 21,
   "metadata": {},
   "outputs": [
    {
     "data": {
      "text/plain": [
       "0.9948081548068113"
      ]
     },
     "execution_count": 21,
     "metadata": {},
     "output_type": "execute_result"
    }
   ],
   "source": [
    "# Probability of an aged 30 survives until 40 years:\n",
    "Ax_continuous.calc_tpx(t=10, x=30)"
   ]
  },
  {
   "cell_type": "markdown",
   "metadata": {},
   "source": [
    "Let's consider a client aged 30. For any possible future age of this client there is probability ${}_{t}p_{30}$ associated to this age and also a distribution:"
   ]
  },
  {
   "cell_type": "code",
   "execution_count": 22,
   "metadata": {},
   "outputs": [
    {
     "data": {
      "image/png": "[encoded data removed]",
      "text/plain": [
       "<Figure size 1152x432 with 1 Axes>"
      ]
     },
     "metadata": {
      "needs_background": "light"
     },
     "output_type": "display_data"
    }
   ],
   "source": [
    "# Creating the vector tp30\n",
    "fig, ax = plt.subplots(figsize=[16,6])\n",
    "\n",
    "time = np.arange(0, len(qx['AT_2000_F'])-30)\n",
    "probs = [Ax_continuous.calc_tpx(t, x=30) for t in time]\n",
    "plt.scatter(time, probs);"
   ]
  },
  {
   "cell_type": "markdown",
   "metadata": {},
   "source": [
    "## Fitting a new survival function: ${}_{t}p_{x} \\rightarrow S_{x}(t)$\n",
    "\n",
    "The next step is to find a continuous funtion that fits on the pair data points generated by the vector time and the function ${}_{t}p_{30}$. But before that it is necessary to fit a continuous function to the function ${}_{t}p_{0}$, i.e, $S_0(t)$. To do that we must use the ``fit_Survival_from_birth`` method."
   ]
  },
  {
   "cell_type": "code",
   "execution_count": 23,
   "metadata": {},
   "outputs": [
    {
     "name": "stdout",
     "output_type": "stream",
     "text": [
      " MSE: 0.0\n"
     ]
    }
   ],
   "source": [
    "Ax_continuous.fit_Survival_from_birth(deg=18)"
   ]
  },
  {
   "cell_type": "markdown",
   "metadata": {},
   "source": [
    "When fitting a polynomial fuction to create a S_x(t) we're taking a very strong assumption for death distribution. As high degree gets the more strong de Uniform Distribution of Death (UDD) assumption gets. Remeber that under UDD\n",
    "\n"
   ]
  },
  {
   "cell_type": "markdown",
   "metadata": {},
   "source": [
    "The code above fitted a polynomial function of degree 9 to the function ${}_{t}p_{0}$. The result of ``fit_Survival_from_birth`` method is a ``numpy Polynomial class`` and this allow us to see easyly what are the coefficients:"
   ]
  },
  {
   "cell_type": "code",
   "execution_count": 24,
   "metadata": {},
   "outputs": [
    {
     "data": {
      "text/latex": [
       "$x \\mapsto \\text{2.105302730512697e-30} - \\text{2.1372243954605684e-27}\\,x + \\text{9.922066220092217e-25}\\,x^{2} - \\text{2.7913464199221277e-22}\\,x^{3} + \\text{5.315980113818e-20}\\,x^{4} - \\text{7.251826990948796e-18}\\,x^{5} + \\text{7.313077034842928e-16}\\,x^{6} - \\text{5.5470323326783176e-14}\\,x^{7} + \\text{3.1893495255626614e-12}\\,x^{8} - \\text{1.3904656423039594e-10}\\,x^{9} + \\text{4.567145708098179e-09}\\,x^{10} - \\text{1.1151379317360164e-07}\\,x^{11} + \\text{1.980704463990051e-06}\\,x^{12} - \\text{2.4779193589754458e-05}\\,x^{13} + \\text{0.00020822956083815997}\\,x^{14} - \\text{0.0010961072569182616}\\,x^{15} + \\text{0.00325931987892372}\\,x^{16} - \\text{0.004896208129109023}\\,x^{17} + \\text{1.000238849728332}\\,x^{18}$"
      ],
      "text/plain": [
       "Polynomial([ 2.10530273e-30, -2.13722440e-27,  9.92206622e-25, -2.79134642e-22,\n",
       "        5.31598011e-20, -7.25182699e-18,  7.31307703e-16, -5.54703233e-14,\n",
       "        3.18934953e-12, -1.39046564e-10,  4.56714571e-09, -1.11513793e-07,\n",
       "        1.98070446e-06, -2.47791936e-05,  2.08229561e-04, -1.09610726e-03,\n",
       "        3.25931988e-03, -4.89620813e-03,  1.00023885e+00], domain=[-1,  1], window=[-1,  1])"
      ]
     },
     "execution_count": 24,
     "metadata": {},
     "output_type": "execute_result"
    }
   ],
   "source": [
    "Ax_continuous.Survival_from_birth_Coef"
   ]
  },
  {
   "cell_type": "markdown",
   "metadata": {},
   "source": [
    "Once the $S_0(x)$ is fitted another function is automaticaly generated: $S_{x}(t)$. To use it we just have to call ``Survival_from_age`` method."
   ]
  },
  {
   "cell_type": "code",
   "execution_count": 25,
   "metadata": {},
   "outputs": [
    {
     "data": {
      "image/png": "[encoded data removed]",
      "text/plain": [
       "<Figure size 1152x432 with 1 Axes>"
      ]
     },
     "metadata": {
      "needs_background": "light"
     },
     "output_type": "display_data"
    }
   ],
   "source": [
    "fig, ax = plt.subplots(figsize=[16,6])\n",
    "\n",
    "plt.scatter(time, probs, label=r'${}_{x}p_{30}$');\n",
    "y_est = [Ax_continuous.Survival_from_age(age=30, to=t) for t in time]\n",
    "plt.plot(time, y_est , color='red', label=f'Polynomial of degree {Ax_continuous.Survival_from_birth_Coef.degree()}')\n",
    "plt.legend();"
   ]
  },
  {
   "cell_type": "markdown",
   "metadata": {},
   "source": [
    "# The mortality force $\\mu_x$\n",
    "\n",
    "The mortality force, $\\mu_x$, is given by:\n",
    "\n",
    "$$\n",
    "    \\mu_x = - \\dfrac{1}{S_0(x)} \\dfrac{d}{dx}S_0(x)\n",
    "$$\n",
    "\n",
    "And this is why we had to build all of those functions before. Thus, to calculate the force of mortality of given aged $x$ we need to use ``mu_force`` method."
   ]
  },
  {
   "cell_type": "code",
   "execution_count": 26,
   "metadata": {},
   "outputs": [
    {
     "data": {
      "text/plain": [
       "0.000537614621210188"
      ]
     },
     "execution_count": 26,
     "metadata": {},
     "output_type": "execute_result"
    }
   ],
   "source": [
    "Ax_continuous.mu_force(age=x)"
   ]
  },
  {
   "cell_type": "markdown",
   "metadata": {},
   "source": [
    "# Premium for $\\bar{A}_{x}$\n",
    "\n",
    "Remember that when in continuous case the discount factor is given by:\n",
    "\n",
    "$$\n",
    "    \\bar{A}_{x} = \\int_{0}^{\\infty} e^{-\\delta t} {}_{t}p_{x} \\mu_{x+t} \\hspace{.2cm} dt .\n",
    "$$\n",
    "\n",
    "where $e^{-\\delta t}$ is the discount factor for continuous case.\n",
    "\n",
    "Than, we need to define a function to be integrated given some $\\delta$:"
   ]
  },
  {
   "cell_type": "markdown",
   "metadata": {},
   "source": [
    "Now, let's calculate the premium!"
   ]
  },
  {
   "cell_type": "code",
   "execution_count": 27,
   "metadata": {},
   "outputs": [
    {
     "data": {
      "text/plain": [
       "0.055755102505374375"
      ]
     },
     "execution_count": 27,
     "metadata": {},
     "output_type": "execute_result"
    }
   ],
   "source": [
    "Ax_continuous.premium(age=30, i=.06, contract=np.infty, B=1)"
   ]
  },
  {
   "cell_type": "markdown",
   "metadata": {},
   "source": [
    "If $S_0(x)$ function is not a good fit this method must raise an exception because it is possible that it is not return a probabilistic value.To correct this issue it is convenient to increase the degree of the polynomial survival function."
   ]
  },
  {
   "cell_type": "markdown",
   "metadata": {},
   "source": [
    "The proof of this result could be thrghout the relationship\n",
    "\n",
    "$$\n",
    "    \\bar{A}_{x} \\approx \\dfrac{i}{\\delta}A_{x}\n",
    "$$"
   ]
  },
  {
   "cell_type": "code",
   "execution_count": 28,
   "metadata": {},
   "outputs": [
    {
     "data": {
      "text/plain": [
       "True"
      ]
     },
     "execution_count": 28,
     "metadata": {},
     "output_type": "execute_result"
    }
   ],
   "source": [
    "delta = np.log(1+i)\n",
    "\n",
    "p1 = Ax_continuous.premium(age=30, i=.06, contract=np.infty, B=1)\n",
    "p2 = Ax_discrete.Ax(i=i, age=x, B=B)\n",
    "\n",
    "np.round(p1, 3) == np.round(i/delta * p2, 3)"
   ]
  },
  {
   "cell_type": "markdown",
   "metadata": {},
   "source": [
    "# Premium for term life on continuous case\n",
    "\n",
    "Common... I bet you already know what we need to do!"
   ]
  },
  {
   "cell_type": "code",
   "execution_count": 29,
   "metadata": {},
   "outputs": [
    {
     "data": {
      "text/plain": [
       "0.01095875572296869"
      ]
     },
     "execution_count": 29,
     "metadata": {},
     "output_type": "execute_result"
    }
   ],
   "source": [
    "Ax_continuous.premium(age=30, i=.06, contract=n, B=1)"
   ]
  }
 ],
 "metadata": {
  "kernelspec": {
   "display_name": "Python 3",
   "language": "python",
   "name": "python3"
  },
  "language_info": {
   "codemirror_mode": {
    "name": "ipython",
    "version": 3
   },
   "file_extension": ".py",
   "mimetype": "text/x-python",
   "name": "python",
   "nbconvert_exporter": "python",
   "pygments_lexer": "ipython3",
   "version": "3.8.5"
  },
  "vscode": {
   "interpreter": {
    "hash": "916dbcbb3f70747c44a77c7bcd40155683ae19c65e1c03b4aa3499c5328201f1"
   }
  }
 },
 "nbformat": 4,
 "nbformat_minor": 4
}
