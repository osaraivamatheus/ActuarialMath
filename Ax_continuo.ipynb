{
 "cells": [
  {
   "cell_type": "code",
   "execution_count": 1,
   "metadata": {},
   "outputs": [],
   "source": [
    "import pandas as pd\n",
    "import numpy as np\n",
    "\n",
    "from numpy.polynomial import Polynomial\n",
    "from numpy import poly1d, polyfit\n",
    "\n",
    "from scipy import integrate\n",
    "\n",
    "import  matplotlib.pyplot as plt"
   ]
  },
  {
   "cell_type": "code",
   "execution_count": 2,
   "metadata": {},
   "outputs": [],
   "source": [
    "qx = pd.read_csv('life_tables.csv', sep=';', decimal=',')\n",
    "qx = qx['AT_49_F']"
   ]
  },
  {
   "cell_type": "markdown",
   "metadata": {},
   "source": [
    "# Calculando  função contínua de tpx"
   ]
  },
  {
   "cell_type": "code",
   "execution_count": 180,
   "metadata": {},
   "outputs": [],
   "source": [
    "class Ax_continuo:\n",
    "    \n",
    "    def __init__(self, qx):\n",
    "        self.qx = np.array(qx)\n",
    "        self.age = None\n",
    "        self.continuous_fitted = 'Not fitted yet.'\n",
    "        self.funtion_tpx = 'Not fitted yet.'\n",
    "        self.Ax_integral = 'Not defined yet.'\n",
    "    \n",
    "    def tpx_discreta(self, age):\n",
    "        self.age = age\n",
    "        px = 1 - self.qx\n",
    "        tpx = lambda t: np.prod(px[age:age+t])\n",
    "        self.function_tpx = tpx\n",
    "    \n",
    "    def fit(self, x, y, deg):\n",
    "        x = np.array(x)\n",
    "        y = np.array(y)\n",
    "\n",
    "        f = polyfit(x, y, deg=deg)\n",
    "        print(Polynomial(f))\n",
    "        self.continuous_fitted = poly1d(f)\n",
    "        \n",
    "        return self\n",
    "    \n",
    "    def mu_force(self, t):\n",
    "        \n",
    "        if self.continuous_fitted == 'Not fitted yet.':\n",
    "            raise Exception('Continuous survival function is not fitted yet.')\n",
    "        \n",
    "        mu = -1/self.continuous_fitted(t) * self.continuous_fitted.deriv()(t)\n",
    "        \n",
    "        return mu\n",
    "    \n",
    "    def define_integral(self, delta):\n",
    "        \n",
    "        if self.continuous_fitted == 'Not fitted yet.':\n",
    "            raise Exception('Continuous survival function is not fitted yet.')\n",
    "            \n",
    "        if self.mu_force == 'Not fitted yet.':\n",
    "            raise Exception('Mortality force function is not fitted yet.')\n",
    "        \n",
    "        f = lambda time: self.mu_force(time)*np.exp(-time*delta)*self.continuous_fitted(time)\n",
    "        \n",
    "        self.Ax_integral = f\n",
    "    \n",
    "    def premium(self, contract, B=1):\n",
    "        \n",
    "        if self.Ax_integral == 'Not defined yet.':\n",
    "            raise Exception('Integral is not defined yet.')\n",
    "            \n",
    "        to_integrate = self.Ax_integral\n",
    "        \n",
    "        return integrate.quad(to_integrate, a=0, b=contract) * B"
   ]
  },
  {
   "cell_type": "code",
   "execution_count": 187,
   "metadata": {},
   "outputs": [],
   "source": [
    "teste = Ax_continuo(qx=qx)"
   ]
  },
  {
   "cell_type": "code",
   "execution_count": 188,
   "metadata": {},
   "outputs": [],
   "source": [
    "teste.tpx_discreta(age=10)"
   ]
  },
  {
   "cell_type": "code",
   "execution_count": 193,
   "metadata": {},
   "outputs": [
    {
     "name": "stdout",
     "output_type": "stream",
     "text": [
      "-2.648676597713516e-18 + 1.212241704539406e-15·x¹ -\n",
      "2.1026465904867106e-13·x² + 1.872861643168603e-11·x³ -\n",
      "9.598974177939536e-10·x⁴ + 2.9234305437630895e-08·x⁵ -\n",
      "5.315264232567946e-07·x⁶ + 5.386489821642725e-06·x⁷ -\n",
      "3.6031120860374546e-05·x⁸ - 0.000127687442678989·x⁹ +\n",
      "0.9999828342728148·x¹⁰\n"
     ]
    }
   ],
   "source": [
    "x = np.arange(0, 70)\n",
    "y = [teste.function_tpx(t) for t in x]\n",
    "teste.fit(x, y, deg=10);"
   ]
  },
  {
   "cell_type": "code",
   "execution_count": 194,
   "metadata": {},
   "outputs": [
    {
     "data": {
      "text/plain": [
       "0.0002454625957962272"
      ]
     },
     "execution_count": 194,
     "metadata": {},
     "output_type": "execute_result"
    }
   ],
   "source": [
    "teste.mu_force(3)"
   ]
  },
  {
   "cell_type": "code",
   "execution_count": 195,
   "metadata": {},
   "outputs": [],
   "source": [
    "teste.define_integral(delta=.1)"
   ]
  },
  {
   "cell_type": "code",
   "execution_count": 196,
   "metadata": {},
   "outputs": [
    {
     "data": {
      "text/plain": [
       "[<matplotlib.lines.Line2D at 0x7f7f6f129d90>]"
      ]
     },
     "execution_count": 196,
     "metadata": {},
     "output_type": "execute_result"
    },
    {
     "data": {
      "image/png": "[encoded data removed]",
      "text/plain": [
       "<Figure size 432x288 with 1 Axes>"
      ]
     },
     "metadata": {
      "needs_background": "light"
     },
     "output_type": "display_data"
    }
   ],
   "source": [
    "premio = [teste.premium(B=1, contract=c)[0] for c in range(70)]\n",
    "\n",
    "plt.plot(np.arange(0,70), premio)"
   ]
  },
  {
   "cell_type": "code",
   "execution_count": null,
   "metadata": {},
   "outputs": [],
   "source": []
  }
 ],
 "metadata": {
  "kernelspec": {
   "display_name": "Python 3",
   "language": "python",
   "name": "python3"
  },
  "language_info": {
   "codemirror_mode": {
    "name": "ipython",
    "version": 3
   },
   "file_extension": ".py",
   "mimetype": "text/x-python",
   "name": "python",
   "nbconvert_exporter": "python",
   "pygments_lexer": "ipython3",
   "version": "3.8.5"
  }
 },
 "nbformat": 4,
 "nbformat_minor": 4
}
